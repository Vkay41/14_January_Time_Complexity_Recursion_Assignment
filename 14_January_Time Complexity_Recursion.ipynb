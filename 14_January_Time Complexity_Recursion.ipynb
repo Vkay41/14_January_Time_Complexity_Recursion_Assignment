{
 "cells": [
  {
   "cell_type": "code",
   "execution_count": 9,
   "id": "8e963d10-3c3b-4387-af23-663908819e4c",
   "metadata": {},
   "outputs": [],
   "source": [
    "#Time Complexity + Recursion Assignment"
   ]
  },
  {
   "cell_type": "code",
   "execution_count": null,
   "id": "0eb2e1a7-6113-4168-a475-d5a220c4fefc",
   "metadata": {},
   "outputs": [],
   "source": [
    "#Find time complexity of below code blocks"
   ]
  },
  {
   "cell_type": "code",
   "execution_count": 11,
   "id": "3422f07c-a6e8-4fe9-bb70-2b956f12c0ae",
   "metadata": {},
   "outputs": [
    {
     "data": {
      "text/plain": [
       "[11, 22, 33, 44, 55, 66, 77, 88, 99]"
      ]
     },
     "execution_count": 11,
     "metadata": {},
     "output_type": "execute_result"
    }
   ],
   "source": [
    "#Problem 1 :\n",
    "\n",
    "\n",
    "def quicksort(arr):\n",
    "\n",
    "    if len(arr) <= 1:\n",
    "\n",
    "        return arr\n",
    "\n",
    "    pivot = arr[len(arr) // 2]\n",
    "\n",
    "    left = [x for x in arr if x < pivot]\n",
    "\n",
    "    middle = [x for x in arr if x == pivot]\n",
    "\n",
    "    right = [x for x in arr if x > pivot]\n",
    "\n",
    "    return quicksort(left) + middle + quicksort(right)\n",
    "\n",
    "\n",
    "\n",
    "arr=[11,99,22,88,33,77,44,66,55]\n",
    "quicksort(arr)"
   ]
  },
  {
   "cell_type": "markdown",
   "id": "8e7fd7bc-3004-4827-8a5f-3d0176335883",
   "metadata": {},
   "source": [
    "Time Complexity: O(nLogn)\n",
    "\n",
    "Auxiliary Space: O(logn)  "
   ]
  },
  {
   "cell_type": "code",
   "execution_count": null,
   "id": "8a265d51-8f3c-4215-b6c4-1bcf082650a9",
   "metadata": {},
   "outputs": [],
   "source": [
    "#Problem 2 :\n",
    "\n",
    "\n",
    "def nested_loop_example(matrix):\n",
    "\n",
    "    rows, cols = len(matrix), len(matrix[0])\n",
    "\n",
    "    total = 0\n",
    "\n",
    "    for i in range(rows):\n",
    "\n",
    "        for j in range(cols):\n",
    "\n",
    "            total += matrix[i][j]\n",
    "\n",
    "    return total\n",
    "\n"
   ]
  },
  {
   "cell_type": "markdown",
   "id": "4ca19691-7293-4eb6-b269-d48966964a7d",
   "metadata": {},
   "source": [
    "Time Complexity: O(n²)\n",
    "\n",
    "Auxiliary Space: O(1), As constant extra space is used."
   ]
  },
  {
   "cell_type": "code",
   "execution_count": 1,
   "id": "6eb8867b-d0d7-402b-a0eb-bd581a724597",
   "metadata": {},
   "outputs": [
    {
     "data": {
      "text/plain": [
       "495"
      ]
     },
     "execution_count": 1,
     "metadata": {},
     "output_type": "execute_result"
    }
   ],
   "source": [
    "#Problem 3 :\n",
    "\n",
    "\n",
    "\n",
    "def example_function(arr):\n",
    "\n",
    "    result = 0\n",
    "\n",
    "    for element in arr:\n",
    "\n",
    "        result += element\n",
    "\n",
    "    return result\n",
    "\n",
    "\n",
    "arr=[11,99,22,88,33,77,44,66,55]\n",
    "example_function(arr)"
   ]
  },
  {
   "cell_type": "markdown",
   "id": "cc8974a9-586d-495d-97e9-ed67921e4bb1",
   "metadata": {},
   "source": [
    "Time Complexity: O(N)\n",
    "\n",
    "Auxiliary Space: O(1), As constant extra space is used."
   ]
  },
  {
   "cell_type": "code",
   "execution_count": 5,
   "id": "8f9f73d1-d481-4d60-b589-6a6b7e2bbe6e",
   "metadata": {},
   "outputs": [
    {
     "data": {
      "text/plain": [
       "6"
      ]
     },
     "execution_count": 5,
     "metadata": {},
     "output_type": "execute_result"
    }
   ],
   "source": [
    "#Problem 4 :\n",
    "\n",
    "\n",
    "\n",
    "\n",
    "def longest_increasing_subsequence(nums):\n",
    "\n",
    "    n = len(nums)\n",
    "\n",
    "    lis = [1] * n\n",
    "\n",
    "    for i in range(1, n):\n",
    "\n",
    "        for j in range(0, i):\n",
    "\n",
    "            if nums[i] > nums[j] and lis[i] < lis[j] + 1:\n",
    "\n",
    "                lis[i] = lis[j] + 1\n",
    "\n",
    "    return max(lis)\n",
    "\n",
    "\n",
    "nums=[11,22,33,44,55,66]\n",
    "longest_increasing_subsequence(nums)"
   ]
  },
  {
   "cell_type": "markdown",
   "id": "e4914995-1f57-46ee-b25f-b685ab50bcac",
   "metadata": {},
   "source": [
    "Time Complexity: O(N*N)\n",
    "\n",
    "Reason: There are N*N states therefore at max ‘N*N’ new problems will be solved.\n",
    "\n",
    "Space Complexity: O(N*N) + O(N)"
   ]
  },
  {
   "cell_type": "code",
   "execution_count": 4,
   "id": "2a574f94-e90b-4c8b-a7a0-165ee6af410b",
   "metadata": {},
   "outputs": [
    {
     "data": {
      "text/plain": [
       "139755"
      ]
     },
     "execution_count": 4,
     "metadata": {},
     "output_type": "execute_result"
    }
   ],
   "source": [
    "#Problem 5 :\n",
    "\n",
    "\n",
    "\n",
    "\n",
    "def mysterious_function(arr):\n",
    "\n",
    "    n = len(arr)\n",
    "\n",
    "    result = 0\n",
    "\n",
    "    for i in range(n):\n",
    "\n",
    "        for j in range(i, n):\n",
    "\n",
    "            result += arr[i] * arr[j]\n",
    "\n",
    "    return result\n",
    "\n",
    "\n",
    "arr=[11,99,22,88,33,77,44,66,55]\n",
    "mysterious_function(arr)"
   ]
  },
  {
   "cell_type": "markdown",
   "id": "0aae1984-3544-4ea1-a1e2-22d6a7cf9acc",
   "metadata": {},
   "source": [
    "Time Complexity: O(N²)\n",
    "\n",
    "Auxiliary Space: O(N+M)\n",
    "\n",
    "M is the number of times the inner loop will be executed ."
   ]
  },
  {
   "cell_type": "code",
   "execution_count": 7,
   "id": "90f1d679-6555-401d-8189-46527418ee81",
   "metadata": {},
   "outputs": [],
   "source": [
    "#Solve the following problems on recursion"
   ]
  },
  {
   "cell_type": "code",
   "execution_count": 8,
   "id": "c3bc806d-94f6-4b50-8a70-df52f4698913",
   "metadata": {},
   "outputs": [
    {
     "name": "stdin",
     "output_type": "stream",
     "text": [
      "Enter the number :  123\n"
     ]
    },
    {
     "data": {
      "text/plain": [
       "6"
      ]
     },
     "execution_count": 8,
     "metadata": {},
     "output_type": "execute_result"
    }
   ],
   "source": [
    "\"\"\"\n",
    "Problem 6 : Sum of Digits\n",
    "Write a recursive function to calculate the sum of digits of a given positive integern\n",
    "\"\"\"\n",
    "def sum_of_digit(n):\n",
    "    if n==0:\n",
    "        return 0\n",
    "    else:\n",
    "        return n%10+sum_of_digit(int(n/10))\n",
    "\n",
    "        \n",
    "n=int(input(\"Enter the number : \"))\n",
    "sum_of_digit(n)"
   ]
  },
  {
   "cell_type": "markdown",
   "id": "aacae9f6-ef6c-4286-a0ab-ac8eb0d66451",
   "metadata": {},
   "source": [
    "Define a function sum_of_digit with a single argument n\n",
    "\n",
    "In which with help of recursion & conditional statement calculate the sum of digits of a given argument and return the value\n",
    "\n",
    "Now take a variable for taking input by the user for the same.\n",
    "\n",
    "Call the function with the variable as argument program ends."
   ]
  },
  {
   "cell_type": "code",
   "execution_count": 9,
   "id": "9ad33b09-088c-418a-9cdd-5675e7682d34",
   "metadata": {},
   "outputs": [
    {
     "name": "stdin",
     "output_type": "stream",
     "text": [
      "Enter number of terms: 6\n"
     ]
    },
    {
     "name": "stdout",
     "output_type": "stream",
     "text": [
      "Fibonacci sequence:\n",
      "0\n",
      "1\n",
      "1\n",
      "2\n",
      "3\n",
      "5\n"
     ]
    }
   ],
   "source": [
    "\"\"\"\n",
    "Problem 7: Fibonacci Series\n",
    "Write a recursive function to generate the first n numbers of the Fibonacci series.\n",
    "\"\"\"\n",
    "def fibonacci(n):\n",
    "    if(n <= 1):\n",
    "        return n\n",
    "    else:\n",
    "        return(fibonacci(n-1) + fibonacci(n-2))\n",
    "n = int(input(\"Enter number of terms:\"))\n",
    "print(\"Fibonacci sequence:\")\n",
    "for i in range(n):\n",
    "    print(fibonacci(i))"
   ]
  },
  {
   "cell_type": "markdown",
   "id": "d9090ce5-e621-4d6d-98ab-14d10a8935f2",
   "metadata": {},
   "source": [
    "1. Take the number of terms from the user and store it in a variable.\n",
    "\n",
    "2. Pass the number as an argument to a recursive function named fibonacci.\n",
    "\n",
    "3. Define the base condition as the number to be lesser than or equal to 1.\n",
    "\n",
    "4. Otherwise call the function recursively with the argument as the number minus 1 added to the function called recursively with the argument as the number minus 2.\n",
    "\n",
    "5. Use a for loop and print the returned value which is the fibonacci series.\n",
    "\n",
    "6. Exit."
   ]
  },
  {
   "cell_type": "code",
   "execution_count": 22,
   "id": "6f763dc8-c709-4450-bdd6-388f5c63e5cd",
   "metadata": {},
   "outputs": [
    {
     "name": "stdout",
     "output_type": "stream",
     "text": [
      "True\n"
     ]
    }
   ],
   "source": [
    "\"\"\"\n",
    "Problem 8 : Subset Sum\n",
    "Given a set of positive integers and a target sum, write a recursive function to determine if there exists a subset\n",
    "of the integers that adds up to the target sum.\n",
    "\"\"\"\n",
    "\n",
    "\n",
    "def isSubsetSum(set, n, sum):\n",
    " \n",
    "    if (sum == 0):\n",
    "        return True\n",
    "    if (n == 0):\n",
    "        return False\n",
    "\n",
    "    if (set[n - 1] > sum):\n",
    "        return isSubsetSum(set, n - 1, sum)\n",
    " \n",
    "    return isSubsetSum(\n",
    "        set, n-1, sum) or isSubsetSum(set, n-1, sum-set[n-1])\n",
    "\n",
    "\n",
    "set = [3, 34, 4, 12, 5, 2]\n",
    "sum = 9\n",
    "n = len(set)\n",
    "if (isSubsetSum(set, n, sum) == True):\n",
    "    print(\"True\")\n",
    "else:\n",
    "    print(\"False\")"
   ]
  },
  {
   "cell_type": "markdown",
   "id": "8fae190b-8d3b-4308-bbbb-d271e01799f8",
   "metadata": {},
   "source": [
    "Build a recursive function and pass the index to be considered (here gradually moving from the last end) and the remaining sum amount.\n",
    "\n",
    "For each index check the base cases and utilize the above recursive call.\n",
    "\n",
    "If the answer is true for any recursion call, then there exists such a subset.\n",
    "\n",
    "Otherwise, no such subset exists."
   ]
  },
  {
   "cell_type": "code",
   "execution_count": 7,
   "id": "80846f6f-b709-4e12-aeb1-383a1de64200",
   "metadata": {},
   "outputs": [
    {
     "name": "stdout",
     "output_type": "stream",
     "text": [
      "True\n"
     ]
    }
   ],
   "source": [
    "\"\"\"\n",
    "Problem 9: Word Break\n",
    "Given a non-empty string and a dictionary of words, write a recursive function to determine if the string can be\n",
    "segmented into a space-separated sequence of dictionary words.\n",
    "\"\"\"\n",
    "\n",
    "\n",
    "def wordBreak(wordList , word):\n",
    "  if word == \"\":\n",
    "    return True\n",
    "  else :\n",
    "    wordLen = len(word)\n",
    "    for i in range(1, wordLen+1):\n",
    "      if word[:i] in wordList and wordBreak(wordList, word[i:]):\n",
    "        return True\n",
    "    return False\n",
    "\n",
    "\n",
    "print(wordBreak([\"leet\",\"code\"], \"leetcode\"))"
   ]
  },
  {
   "cell_type": "markdown",
   "id": "89ebd549-30b5-48d0-a78f-1c12879eb1a7",
   "metadata": {},
   "source": [
    "Define a function wordBreak with two argument wordList , word\n",
    "\n",
    "In which with help of loop , recursion & conditional statement string can be segmented into a space-separated sequence and return True/False according to the condition\n",
    "\n",
    "Now Call the function with two variale as argument one a list and a string.\n",
    "\n",
    "Finaly print the return value and program ends\n"
   ]
  },
  {
   "cell_type": "code",
   "execution_count": 16,
   "id": "00586b70-c0e9-4c2f-8c0b-7f17cac20979",
   "metadata": {},
   "outputs": [
    {
     "name": "stdout",
     "output_type": "stream",
     "text": [
      "0 0 Q 0 \n",
      "Q 0 0 0 \n",
      "0 0 0 Q \n",
      "0 Q 0 0 \n"
     ]
    },
    {
     "data": {
      "text/plain": [
       "True"
      ]
     },
     "execution_count": 16,
     "metadata": {},
     "output_type": "execute_result"
    }
   ],
   "source": [
    "\"\"\"\n",
    "Problem 10 : N-Queens\n",
    "\n",
    "\n",
    "Implement a recursive function to solve the N Queens problem, where you have to place N queens on an N×N\n",
    "chessboard in such a way that no two queens threaten each other.\n",
    "\"\"\"\n",
    "\n",
    "global N\n",
    "N = 4\n",
    "def printBoard(board):\n",
    "    for i in range(N):\n",
    "        for j in range(N):\n",
    "            print(board[i][j], end = \" \")\n",
    "        print()\n",
    "def isSafe(board, row, col):\n",
    "    for i in range(col):\n",
    "        if board[row][i] == \"Q\":\n",
    "            return False\n",
    "    for i, j in zip(range(row, -1, -1),\n",
    "                    range(col, -1, -1)):\n",
    "        if board[i][j] == \"Q\":\n",
    "            return False\n",
    "    for i, j in zip(range(row, N, 1),\n",
    "                    range(col, -1, -1)):\n",
    "        if board[i][j] == \"Q\":\n",
    "            return False\n",
    "    return True\n",
    "def solveNQ(board, col):\n",
    "    \n",
    "\n",
    "    if col >= N:\n",
    "        return True\n",
    "\n",
    "    for i in range(N):\n",
    "        if isSafe(board, i, col):\n",
    "            \n",
    "            board[i][col] = \"Q\"\n",
    "            \n",
    "            if solveNQ(board, col + 1) == True:\n",
    "                return True\n",
    "                \n",
    "        \n",
    "            board[i][col] = 0\n",
    "    return False\n",
    "def solve():\n",
    "    board = [ [0, 0, 0, 0],\n",
    "            [0, 0, 0, 0],\n",
    "            [0, 0, 0, 0],\n",
    "            [0, 0, 0, 0] ]\n",
    "    if solveNQ(board, 0) == False:\n",
    "        print (\"No Possible Solution exists\")\n",
    "        return False\n",
    "    printBoard(board)\n",
    "    return True\n",
    "solve()\n"
   ]
  },
  {
   "cell_type": "markdown",
   "id": "5dc08ecc-f282-4811-b6ba-36e0b1be14c7",
   "metadata": {},
   "source": [
    "Start with an empty chessboard of size n x n.\n",
    "\n",
    "Place the first queen in the top-left corner of the board (i.e., row 1, column 1).\n",
    "\n",
    "Move to the next row and try to place a queen in each column until a valid position is found or all columns have been tried.\n",
    "\n",
    "If a valid position is found, move to the next row and repeat step 3.\n",
    "\n",
    "If all columns have been tried in the current row without finding a valid position, backtrack to the previous row and move the queen to the next column in that row. Repeat step 3.\n",
    "\n",
    "If all rows have been tried without finding a solution, backtrack to the previous row and move the queen to the next column in that row. \n",
    "Repeat step 3.\n",
    "\n",
    "If a solution is found, print the positions of the queens on the board and exit the program."
   ]
  },
  {
   "cell_type": "code",
   "execution_count": null,
   "id": "ca555a5a-bb66-4846-9715-6c9ec0a0ed3d",
   "metadata": {},
   "outputs": [],
   "source": []
  }
 ],
 "metadata": {
  "kernelspec": {
   "display_name": "Python 3 (ipykernel)",
   "language": "python",
   "name": "python3"
  },
  "language_info": {
   "codemirror_mode": {
    "name": "ipython",
    "version": 3
   },
   "file_extension": ".py",
   "mimetype": "text/x-python",
   "name": "python",
   "nbconvert_exporter": "python",
   "pygments_lexer": "ipython3",
   "version": "3.10.8"
  }
 },
 "nbformat": 4,
 "nbformat_minor": 5
}
